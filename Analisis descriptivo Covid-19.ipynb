{
 "cells": [
  {
   "cell_type": "code",
   "execution_count": 23,
   "metadata": {},
   "outputs": [],
   "source": [
    "import pandas as pd\n",
    "import numpy as np"
   ]
  },
  {
   "cell_type": "code",
   "execution_count": 24,
   "metadata": {},
   "outputs": [],
   "source": [
    "ruta = r'c:\\Users\\ACER-PC\\Downloads\\Fallecidos_COVID_Colombia.csv'\n",
    "df = pd.read_csv(ruta, sep=',')"
   ]
  },
  {
   "cell_type": "code",
   "execution_count": 25,
   "metadata": {},
   "outputs": [
    {
     "name": "stdout",
     "output_type": "stream",
     "text": [
      "<class 'pandas.core.frame.DataFrame'>\n",
      "RangeIndex: 143125 entries, 0 to 143124\n",
      "Data columns (total 23 columns):\n",
      " #   Column                        Non-Null Count   Dtype  \n",
      "---  ------                        --------------   -----  \n",
      " 0   fecha reporte web             143125 non-null  object \n",
      " 1   ID de caso                    143125 non-null  int64  \n",
      " 2   Fecha de notificación         143125 non-null  object \n",
      " 3   Código DIVIPOLA departamento  143125 non-null  int64  \n",
      " 4   Nombre departamento           143125 non-null  object \n",
      " 5   Código DIVIPOLA municipio     143125 non-null  int64  \n",
      " 6   Nombre municipio              143125 non-null  object \n",
      " 7   Edad                          143125 non-null  int64  \n",
      " 8   Unidad de medida de edad      143125 non-null  int64  \n",
      " 9   Sexo                          143125 non-null  object \n",
      " 10  Tipo de contagio              143125 non-null  object \n",
      " 11  Ubicación del caso            143125 non-null  object \n",
      " 12  Estado                        143125 non-null  object \n",
      " 13  Código ISO del país           94 non-null      float64\n",
      " 14  Nombre del país               94 non-null      object \n",
      " 15  Recuperado                    143125 non-null  object \n",
      " 16  Fecha de inicio de síntomas   143125 non-null  object \n",
      " 17  Fecha de muerte               143125 non-null  object \n",
      " 18  Fecha de diagnóstico          143001 non-null  object \n",
      " 19  Fecha de recuperación         0 non-null       float64\n",
      " 20  Tipo de recuperación          0 non-null       float64\n",
      " 21  Pertenencia étnica            143125 non-null  int64  \n",
      " 22  Nombre del grupo étnico       2295 non-null    object \n",
      "dtypes: float64(3), int64(6), object(14)\n",
      "memory usage: 25.1+ MB\n"
     ]
    }
   ],
   "source": [
    "df.info()"
   ]
  },
  {
   "cell_type": "markdown",
   "metadata": {},
   "source": [
    "# Limpieza de datos"
   ]
  },
  {
   "cell_type": "code",
   "execution_count": 26,
   "metadata": {},
   "outputs": [],
   "source": [
    "# Cambiar el nombre de las columnas capitalizando la primera letra\n",
    "df = df.rename(columns=lambda x: x.capitalize())"
   ]
  },
  {
   "cell_type": "code",
   "execution_count": 27,
   "metadata": {},
   "outputs": [
    {
     "data": {
      "text/plain": [
       "Fecha reporte web                    0\n",
       "Id de caso                           0\n",
       "Fecha de notificación                0\n",
       "Código divipola departamento         0\n",
       "Nombre departamento                  0\n",
       "Código divipola municipio            0\n",
       "Nombre municipio                     0\n",
       "Edad                                 0\n",
       "Unidad de medida de edad             0\n",
       "Sexo                                 0\n",
       "Tipo de contagio                     0\n",
       "Ubicación del caso                   0\n",
       "Estado                               0\n",
       "Código iso del país             143031\n",
       "Nombre del país                 143031\n",
       "Recuperado                           0\n",
       "Fecha de inicio de síntomas          0\n",
       "Fecha de muerte                      0\n",
       "Fecha de diagnóstico               124\n",
       "Fecha de recuperación           143125\n",
       "Tipo de recuperación            143125\n",
       "Pertenencia étnica                   0\n",
       "Nombre del grupo étnico         140830\n",
       "dtype: int64"
      ]
     },
     "execution_count": 27,
     "metadata": {},
     "output_type": "execute_result"
    }
   ],
   "source": [
    "# lista de valores nulos presentes en el dataframe\n",
    "df.isnull().sum()"
   ]
  },
  {
   "cell_type": "code",
   "execution_count": 28,
   "metadata": {},
   "outputs": [
    {
     "data": {
      "text/html": [
       "<div>\n",
       "<style scoped>\n",
       "    .dataframe tbody tr th:only-of-type {\n",
       "        vertical-align: middle;\n",
       "    }\n",
       "\n",
       "    .dataframe tbody tr th {\n",
       "        vertical-align: top;\n",
       "    }\n",
       "\n",
       "    .dataframe thead th {\n",
       "        text-align: right;\n",
       "    }\n",
       "</style>\n",
       "<table border=\"1\" class=\"dataframe\">\n",
       "  <thead>\n",
       "    <tr style=\"text-align: right;\">\n",
       "      <th></th>\n",
       "      <th>Fecha reporte web</th>\n",
       "      <th>Id de caso</th>\n",
       "      <th>Fecha de notificación</th>\n",
       "      <th>Código divipola departamento</th>\n",
       "      <th>Nombre departamento</th>\n",
       "      <th>Código divipola municipio</th>\n",
       "      <th>Nombre municipio</th>\n",
       "      <th>Edad</th>\n",
       "      <th>Unidad de medida de edad</th>\n",
       "      <th>Sexo</th>\n",
       "      <th>...</th>\n",
       "      <th>Código iso del país</th>\n",
       "      <th>Nombre del país</th>\n",
       "      <th>Recuperado</th>\n",
       "      <th>Fecha de inicio de síntomas</th>\n",
       "      <th>Fecha de muerte</th>\n",
       "      <th>Fecha de diagnóstico</th>\n",
       "      <th>Fecha de recuperación</th>\n",
       "      <th>Tipo de recuperación</th>\n",
       "      <th>Pertenencia étnica</th>\n",
       "      <th>Nombre del grupo étnico</th>\n",
       "    </tr>\n",
       "  </thead>\n",
       "  <tbody>\n",
       "    <tr>\n",
       "      <th>0</th>\n",
       "      <td>2020-12-24 00:00:00</td>\n",
       "      <td>1556982</td>\n",
       "      <td>2020-12-22 00:00:00</td>\n",
       "      <td>76</td>\n",
       "      <td>VALLE</td>\n",
       "      <td>76001</td>\n",
       "      <td>CALI</td>\n",
       "      <td>74</td>\n",
       "      <td>1</td>\n",
       "      <td>F</td>\n",
       "      <td>...</td>\n",
       "      <td>NaN</td>\n",
       "      <td>NaN</td>\n",
       "      <td>Fallecido</td>\n",
       "      <td>2020-12-17 00:00:00</td>\n",
       "      <td>2020-12-30 00:00:00</td>\n",
       "      <td>2020-12-23 00:00:00</td>\n",
       "      <td>NaN</td>\n",
       "      <td>NaN</td>\n",
       "      <td>6</td>\n",
       "      <td>NaN</td>\n",
       "    </tr>\n",
       "    <tr>\n",
       "      <th>1</th>\n",
       "      <td>2020-12-24 00:00:00</td>\n",
       "      <td>1556986</td>\n",
       "      <td>2020-12-18 00:00:00</td>\n",
       "      <td>76</td>\n",
       "      <td>VALLE</td>\n",
       "      <td>76001</td>\n",
       "      <td>CALI</td>\n",
       "      <td>66</td>\n",
       "      <td>1</td>\n",
       "      <td>F</td>\n",
       "      <td>...</td>\n",
       "      <td>NaN</td>\n",
       "      <td>NaN</td>\n",
       "      <td>Fallecido</td>\n",
       "      <td>2020-12-11 00:00:00</td>\n",
       "      <td>2020-12-26 00:00:00</td>\n",
       "      <td>2020-12-22 00:00:00</td>\n",
       "      <td>NaN</td>\n",
       "      <td>NaN</td>\n",
       "      <td>6</td>\n",
       "      <td>NaN</td>\n",
       "    </tr>\n",
       "    <tr>\n",
       "      <th>2</th>\n",
       "      <td>2020-11-08 00:00:00</td>\n",
       "      <td>1137434</td>\n",
       "      <td>2020-11-05 00:00:00</td>\n",
       "      <td>11</td>\n",
       "      <td>BOGOTA</td>\n",
       "      <td>11001</td>\n",
       "      <td>BOGOTA</td>\n",
       "      <td>81</td>\n",
       "      <td>1</td>\n",
       "      <td>F</td>\n",
       "      <td>...</td>\n",
       "      <td>NaN</td>\n",
       "      <td>NaN</td>\n",
       "      <td>Fallecido</td>\n",
       "      <td>2020-10-31 00:00:00</td>\n",
       "      <td>2020-11-11 00:00:00</td>\n",
       "      <td>2020-11-07 00:00:00</td>\n",
       "      <td>NaN</td>\n",
       "      <td>NaN</td>\n",
       "      <td>6</td>\n",
       "      <td>NaN</td>\n",
       "    </tr>\n",
       "    <tr>\n",
       "      <th>3</th>\n",
       "      <td>2020-11-08 00:00:00</td>\n",
       "      <td>1137440</td>\n",
       "      <td>2020-11-03 00:00:00</td>\n",
       "      <td>63</td>\n",
       "      <td>QUINDIO</td>\n",
       "      <td>63001</td>\n",
       "      <td>ARMENIA</td>\n",
       "      <td>85</td>\n",
       "      <td>1</td>\n",
       "      <td>F</td>\n",
       "      <td>...</td>\n",
       "      <td>NaN</td>\n",
       "      <td>NaN</td>\n",
       "      <td>Fallecido</td>\n",
       "      <td>2020-10-31 00:00:00</td>\n",
       "      <td>2020-11-12 00:00:00</td>\n",
       "      <td>2020-10-31 00:00:00</td>\n",
       "      <td>NaN</td>\n",
       "      <td>NaN</td>\n",
       "      <td>6</td>\n",
       "      <td>NaN</td>\n",
       "    </tr>\n",
       "    <tr>\n",
       "      <th>4</th>\n",
       "      <td>2020-11-08 00:00:00</td>\n",
       "      <td>1137443</td>\n",
       "      <td>2020-11-04 00:00:00</td>\n",
       "      <td>11</td>\n",
       "      <td>BOGOTA</td>\n",
       "      <td>11001</td>\n",
       "      <td>BOGOTA</td>\n",
       "      <td>78</td>\n",
       "      <td>1</td>\n",
       "      <td>M</td>\n",
       "      <td>...</td>\n",
       "      <td>NaN</td>\n",
       "      <td>NaN</td>\n",
       "      <td>Fallecido</td>\n",
       "      <td>2020-10-31 00:00:00</td>\n",
       "      <td>2020-11-16 00:00:00</td>\n",
       "      <td>2020-11-07 00:00:00</td>\n",
       "      <td>NaN</td>\n",
       "      <td>NaN</td>\n",
       "      <td>6</td>\n",
       "      <td>NaN</td>\n",
       "    </tr>\n",
       "  </tbody>\n",
       "</table>\n",
       "<p>5 rows × 23 columns</p>\n",
       "</div>"
      ],
      "text/plain": [
       "     Fecha reporte web  Id de caso Fecha de notificación  \\\n",
       "0  2020-12-24 00:00:00     1556982   2020-12-22 00:00:00   \n",
       "1  2020-12-24 00:00:00     1556986   2020-12-18 00:00:00   \n",
       "2  2020-11-08 00:00:00     1137434   2020-11-05 00:00:00   \n",
       "3  2020-11-08 00:00:00     1137440   2020-11-03 00:00:00   \n",
       "4  2020-11-08 00:00:00     1137443   2020-11-04 00:00:00   \n",
       "\n",
       "   Código divipola departamento Nombre departamento  \\\n",
       "0                            76               VALLE   \n",
       "1                            76               VALLE   \n",
       "2                            11              BOGOTA   \n",
       "3                            63             QUINDIO   \n",
       "4                            11              BOGOTA   \n",
       "\n",
       "   Código divipola municipio Nombre municipio  Edad  Unidad de medida de edad  \\\n",
       "0                      76001             CALI    74                         1   \n",
       "1                      76001             CALI    66                         1   \n",
       "2                      11001           BOGOTA    81                         1   \n",
       "3                      63001          ARMENIA    85                         1   \n",
       "4                      11001           BOGOTA    78                         1   \n",
       "\n",
       "  Sexo  ... Código iso del país Nombre del país Recuperado  \\\n",
       "0    F  ...                 NaN             NaN  Fallecido   \n",
       "1    F  ...                 NaN             NaN  Fallecido   \n",
       "2    F  ...                 NaN             NaN  Fallecido   \n",
       "3    F  ...                 NaN             NaN  Fallecido   \n",
       "4    M  ...                 NaN             NaN  Fallecido   \n",
       "\n",
       "   Fecha de inicio de síntomas      Fecha de muerte Fecha de diagnóstico  \\\n",
       "0          2020-12-17 00:00:00  2020-12-30 00:00:00  2020-12-23 00:00:00   \n",
       "1          2020-12-11 00:00:00  2020-12-26 00:00:00  2020-12-22 00:00:00   \n",
       "2          2020-10-31 00:00:00  2020-11-11 00:00:00  2020-11-07 00:00:00   \n",
       "3          2020-10-31 00:00:00  2020-11-12 00:00:00  2020-10-31 00:00:00   \n",
       "4          2020-10-31 00:00:00  2020-11-16 00:00:00  2020-11-07 00:00:00   \n",
       "\n",
       "  Fecha de recuperación Tipo de recuperación Pertenencia étnica  \\\n",
       "0                   NaN                  NaN                  6   \n",
       "1                   NaN                  NaN                  6   \n",
       "2                   NaN                  NaN                  6   \n",
       "3                   NaN                  NaN                  6   \n",
       "4                   NaN                  NaN                  6   \n",
       "\n",
       "   Nombre del grupo étnico  \n",
       "0                      NaN  \n",
       "1                      NaN  \n",
       "2                      NaN  \n",
       "3                      NaN  \n",
       "4                      NaN  \n",
       "\n",
       "[5 rows x 23 columns]"
      ]
     },
     "execution_count": 28,
     "metadata": {},
     "output_type": "execute_result"
    }
   ],
   "source": [
    "df.head()"
   ]
  },
  {
   "cell_type": "code",
   "execution_count": 29,
   "metadata": {},
   "outputs": [
    {
     "data": {
      "text/plain": [
       "Nombre del grupo étnico\n",
       "Por definir                        141451\n",
       "Sin Comunidad                         364\n",
       "ZENU                                  240\n",
       "PIJAO                                  93\n",
       "PASTO                                  82\n",
       "                                    ...  \n",
       "PIEDRAS BLANCAS                         1\n",
       "U'WA                                    1\n",
       "YORROLOKI                               1\n",
       "SAN JUAN DE DIOS DE LAS PELONAS         1\n",
       "KATANAMANA                              1\n",
       "Name: count, Length: 315, dtype: int64"
      ]
     },
     "execution_count": 29,
     "metadata": {},
     "output_type": "execute_result"
    }
   ],
   "source": [
    "# Llenado de valores nan con la moda o valor que mas se repite\n",
    "df['Nombre del grupo étnico'] = df['Nombre del grupo étnico'].fillna(df['Nombre del grupo étnico'].mode()[0])\n",
    "df['Nombre del grupo étnico'].value_counts(dropna=False)"
   ]
  },
  {
   "cell_type": "code",
   "execution_count": 30,
   "metadata": {},
   "outputs": [
    {
     "data": {
      "text/html": [
       "<div>\n",
       "<style scoped>\n",
       "    .dataframe tbody tr th:only-of-type {\n",
       "        vertical-align: middle;\n",
       "    }\n",
       "\n",
       "    .dataframe tbody tr th {\n",
       "        vertical-align: top;\n",
       "    }\n",
       "\n",
       "    .dataframe thead th {\n",
       "        text-align: right;\n",
       "    }\n",
       "</style>\n",
       "<table border=\"1\" class=\"dataframe\">\n",
       "  <thead>\n",
       "    <tr style=\"text-align: right;\">\n",
       "      <th></th>\n",
       "      <th>Fecha reporte web</th>\n",
       "      <th>Fecha de notificación</th>\n",
       "      <th>Fecha de inicio de síntomas</th>\n",
       "      <th>Fecha de muerte</th>\n",
       "      <th>Fecha de diagnóstico</th>\n",
       "      <th>Fecha de recuperación</th>\n",
       "    </tr>\n",
       "  </thead>\n",
       "  <tbody>\n",
       "    <tr>\n",
       "      <th>21642</th>\n",
       "      <td>2021-06-03</td>\n",
       "      <td>2021-06-01</td>\n",
       "      <td>2021-05-23</td>\n",
       "      <td>2021-06-13</td>\n",
       "      <td>2021-06-01</td>\n",
       "      <td>NaT</td>\n",
       "    </tr>\n",
       "    <tr>\n",
       "      <th>126587</th>\n",
       "      <td>2022-01-03</td>\n",
       "      <td>2021-12-16</td>\n",
       "      <td>2021-12-11</td>\n",
       "      <td>2021-12-30</td>\n",
       "      <td>2021-12-27</td>\n",
       "      <td>NaT</td>\n",
       "    </tr>\n",
       "    <tr>\n",
       "      <th>28378</th>\n",
       "      <td>2021-05-12</td>\n",
       "      <td>2021-05-05</td>\n",
       "      <td>2021-05-04</td>\n",
       "      <td>2021-05-08</td>\n",
       "      <td>2021-05-05</td>\n",
       "      <td>NaT</td>\n",
       "    </tr>\n",
       "    <tr>\n",
       "      <th>99583</th>\n",
       "      <td>2021-07-06</td>\n",
       "      <td>2021-07-02</td>\n",
       "      <td>2021-06-20</td>\n",
       "      <td>2021-06-30</td>\n",
       "      <td>2021-07-03</td>\n",
       "      <td>NaT</td>\n",
       "    </tr>\n",
       "    <tr>\n",
       "      <th>62735</th>\n",
       "      <td>2021-03-06</td>\n",
       "      <td>2021-02-28</td>\n",
       "      <td>2021-02-15</td>\n",
       "      <td>2021-03-15</td>\n",
       "      <td>2021-03-02</td>\n",
       "      <td>NaT</td>\n",
       "    </tr>\n",
       "    <tr>\n",
       "      <th>116022</th>\n",
       "      <td>2021-05-14</td>\n",
       "      <td>2021-05-08</td>\n",
       "      <td>2021-05-01</td>\n",
       "      <td>2021-06-15</td>\n",
       "      <td>2021-05-12</td>\n",
       "      <td>NaT</td>\n",
       "    </tr>\n",
       "    <tr>\n",
       "      <th>142832</th>\n",
       "      <td>2021-10-24</td>\n",
       "      <td>2021-10-22</td>\n",
       "      <td>2021-10-15</td>\n",
       "      <td>2021-10-23</td>\n",
       "      <td>2021-10-21</td>\n",
       "      <td>NaT</td>\n",
       "    </tr>\n",
       "    <tr>\n",
       "      <th>43549</th>\n",
       "      <td>2020-11-03</td>\n",
       "      <td>2020-10-22</td>\n",
       "      <td>2020-10-19</td>\n",
       "      <td>2020-11-12</td>\n",
       "      <td>2020-11-02</td>\n",
       "      <td>NaT</td>\n",
       "    </tr>\n",
       "    <tr>\n",
       "      <th>15052</th>\n",
       "      <td>2021-04-15</td>\n",
       "      <td>2021-04-13</td>\n",
       "      <td>2021-04-09</td>\n",
       "      <td>2021-04-25</td>\n",
       "      <td>2021-04-13</td>\n",
       "      <td>NaT</td>\n",
       "    </tr>\n",
       "    <tr>\n",
       "      <th>8735</th>\n",
       "      <td>2021-05-13</td>\n",
       "      <td>2021-05-10</td>\n",
       "      <td>2021-05-03</td>\n",
       "      <td>2021-05-09</td>\n",
       "      <td>2021-05-11</td>\n",
       "      <td>NaT</td>\n",
       "    </tr>\n",
       "  </tbody>\n",
       "</table>\n",
       "</div>"
      ],
      "text/plain": [
       "       Fecha reporte web Fecha de notificación Fecha de inicio de síntomas  \\\n",
       "21642         2021-06-03            2021-06-01                  2021-05-23   \n",
       "126587        2022-01-03            2021-12-16                  2021-12-11   \n",
       "28378         2021-05-12            2021-05-05                  2021-05-04   \n",
       "99583         2021-07-06            2021-07-02                  2021-06-20   \n",
       "62735         2021-03-06            2021-02-28                  2021-02-15   \n",
       "116022        2021-05-14            2021-05-08                  2021-05-01   \n",
       "142832        2021-10-24            2021-10-22                  2021-10-15   \n",
       "43549         2020-11-03            2020-10-22                  2020-10-19   \n",
       "15052         2021-04-15            2021-04-13                  2021-04-09   \n",
       "8735          2021-05-13            2021-05-10                  2021-05-03   \n",
       "\n",
       "       Fecha de muerte Fecha de diagnóstico Fecha de recuperación  \n",
       "21642       2021-06-13           2021-06-01                   NaT  \n",
       "126587      2021-12-30           2021-12-27                   NaT  \n",
       "28378       2021-05-08           2021-05-05                   NaT  \n",
       "99583       2021-06-30           2021-07-03                   NaT  \n",
       "62735       2021-03-15           2021-03-02                   NaT  \n",
       "116022      2021-06-15           2021-05-12                   NaT  \n",
       "142832      2021-10-23           2021-10-21                   NaT  \n",
       "43549       2020-11-12           2020-11-02                   NaT  \n",
       "15052       2021-04-25           2021-04-13                   NaT  \n",
       "8735        2021-05-09           2021-05-11                   NaT  "
      ]
     },
     "execution_count": 30,
     "metadata": {},
     "output_type": "execute_result"
    }
   ],
   "source": [
    "# Cambio de tipo de dato a columnas de fecha\n",
    "columnas_fecha = ['Fecha de notificación', 'Fecha de muerte', 'Fecha de diagnóstico', 'Fecha de recuperación', 'Fecha de inicio de síntomas', 'Fecha reporte web']\n",
    "for columnas in columnas_fecha:\n",
    "    df[columnas] = pd.to_datetime(df[columnas], errors='coerce')\n",
    "\n",
    "#Seleccionar columnas de tipo fecha aleatoriamente\n",
    "df.select_dtypes(include='datetime64[ns]').sample(10)"
   ]
  },
  {
   "cell_type": "code",
   "execution_count": 31,
   "metadata": {},
   "outputs": [
    {
     "data": {
      "text/html": [
       "<div>\n",
       "<style scoped>\n",
       "    .dataframe tbody tr th:only-of-type {\n",
       "        vertical-align: middle;\n",
       "    }\n",
       "\n",
       "    .dataframe tbody tr th {\n",
       "        vertical-align: top;\n",
       "    }\n",
       "\n",
       "    .dataframe thead th {\n",
       "        text-align: right;\n",
       "    }\n",
       "</style>\n",
       "<table border=\"1\" class=\"dataframe\">\n",
       "  <thead>\n",
       "    <tr style=\"text-align: right;\">\n",
       "      <th></th>\n",
       "      <th>Fecha reporte web</th>\n",
       "      <th>Fecha de notificación</th>\n",
       "      <th>Fecha de inicio de síntomas</th>\n",
       "      <th>Fecha de muerte</th>\n",
       "      <th>Fecha de diagnóstico</th>\n",
       "      <th>Fecha de recuperación</th>\n",
       "    </tr>\n",
       "  </thead>\n",
       "  <tbody>\n",
       "    <tr>\n",
       "      <th>0</th>\n",
       "      <td>2020-12-24</td>\n",
       "      <td>2020-12-22</td>\n",
       "      <td>2020-12-17</td>\n",
       "      <td>2020-12-30</td>\n",
       "      <td>2020-12-23</td>\n",
       "      <td>NaT</td>\n",
       "    </tr>\n",
       "    <tr>\n",
       "      <th>1</th>\n",
       "      <td>2020-12-24</td>\n",
       "      <td>2020-12-18</td>\n",
       "      <td>2020-12-11</td>\n",
       "      <td>2020-12-26</td>\n",
       "      <td>2020-12-22</td>\n",
       "      <td>NaT</td>\n",
       "    </tr>\n",
       "    <tr>\n",
       "      <th>2</th>\n",
       "      <td>2020-11-08</td>\n",
       "      <td>2020-11-05</td>\n",
       "      <td>2020-10-31</td>\n",
       "      <td>2020-11-11</td>\n",
       "      <td>2020-11-07</td>\n",
       "      <td>NaT</td>\n",
       "    </tr>\n",
       "    <tr>\n",
       "      <th>3</th>\n",
       "      <td>2020-11-08</td>\n",
       "      <td>2020-11-03</td>\n",
       "      <td>2020-10-31</td>\n",
       "      <td>2020-11-12</td>\n",
       "      <td>2020-10-31</td>\n",
       "      <td>NaT</td>\n",
       "    </tr>\n",
       "    <tr>\n",
       "      <th>4</th>\n",
       "      <td>2020-11-08</td>\n",
       "      <td>2020-11-04</td>\n",
       "      <td>2020-10-31</td>\n",
       "      <td>2020-11-16</td>\n",
       "      <td>2020-11-07</td>\n",
       "      <td>NaT</td>\n",
       "    </tr>\n",
       "    <tr>\n",
       "      <th>...</th>\n",
       "      <td>...</td>\n",
       "      <td>...</td>\n",
       "      <td>...</td>\n",
       "      <td>...</td>\n",
       "      <td>...</td>\n",
       "      <td>...</td>\n",
       "    </tr>\n",
       "    <tr>\n",
       "      <th>143120</th>\n",
       "      <td>2021-10-23</td>\n",
       "      <td>2021-10-20</td>\n",
       "      <td>2021-10-16</td>\n",
       "      <td>2021-10-22</td>\n",
       "      <td>2021-10-20</td>\n",
       "      <td>NaT</td>\n",
       "    </tr>\n",
       "    <tr>\n",
       "      <th>143121</th>\n",
       "      <td>2021-09-10</td>\n",
       "      <td>2021-09-07</td>\n",
       "      <td>2021-09-07</td>\n",
       "      <td>2021-09-29</td>\n",
       "      <td>2021-09-09</td>\n",
       "      <td>NaT</td>\n",
       "    </tr>\n",
       "    <tr>\n",
       "      <th>143122</th>\n",
       "      <td>2021-09-10</td>\n",
       "      <td>2021-09-08</td>\n",
       "      <td>2021-09-02</td>\n",
       "      <td>2021-09-25</td>\n",
       "      <td>2021-09-08</td>\n",
       "      <td>NaT</td>\n",
       "    </tr>\n",
       "    <tr>\n",
       "      <th>143123</th>\n",
       "      <td>2021-10-24</td>\n",
       "      <td>2021-10-23</td>\n",
       "      <td>2021-10-17</td>\n",
       "      <td>2021-10-27</td>\n",
       "      <td>2021-10-23</td>\n",
       "      <td>NaT</td>\n",
       "    </tr>\n",
       "    <tr>\n",
       "      <th>143124</th>\n",
       "      <td>2021-10-24</td>\n",
       "      <td>2021-10-22</td>\n",
       "      <td>2021-10-16</td>\n",
       "      <td>2021-11-03</td>\n",
       "      <td>2021-10-22</td>\n",
       "      <td>NaT</td>\n",
       "    </tr>\n",
       "  </tbody>\n",
       "</table>\n",
       "<p>143125 rows × 6 columns</p>\n",
       "</div>"
      ],
      "text/plain": [
       "       Fecha reporte web Fecha de notificación Fecha de inicio de síntomas  \\\n",
       "0             2020-12-24            2020-12-22                  2020-12-17   \n",
       "1             2020-12-24            2020-12-18                  2020-12-11   \n",
       "2             2020-11-08            2020-11-05                  2020-10-31   \n",
       "3             2020-11-08            2020-11-03                  2020-10-31   \n",
       "4             2020-11-08            2020-11-04                  2020-10-31   \n",
       "...                  ...                   ...                         ...   \n",
       "143120        2021-10-23            2021-10-20                  2021-10-16   \n",
       "143121        2021-09-10            2021-09-07                  2021-09-07   \n",
       "143122        2021-09-10            2021-09-08                  2021-09-02   \n",
       "143123        2021-10-24            2021-10-23                  2021-10-17   \n",
       "143124        2021-10-24            2021-10-22                  2021-10-16   \n",
       "\n",
       "       Fecha de muerte Fecha de diagnóstico Fecha de recuperación  \n",
       "0           2020-12-30           2020-12-23                   NaT  \n",
       "1           2020-12-26           2020-12-22                   NaT  \n",
       "2           2020-11-11           2020-11-07                   NaT  \n",
       "3           2020-11-12           2020-10-31                   NaT  \n",
       "4           2020-11-16           2020-11-07                   NaT  \n",
       "...                ...                  ...                   ...  \n",
       "143120      2021-10-22           2021-10-20                   NaT  \n",
       "143121      2021-09-29           2021-09-09                   NaT  \n",
       "143122      2021-09-25           2021-09-08                   NaT  \n",
       "143123      2021-10-27           2021-10-23                   NaT  \n",
       "143124      2021-11-03           2021-10-22                   NaT  \n",
       "\n",
       "[143125 rows x 6 columns]"
      ]
     },
     "execution_count": 31,
     "metadata": {},
     "output_type": "execute_result"
    }
   ],
   "source": [
    "df.select_dtypes(include='datetime')"
   ]
  },
  {
   "cell_type": "code",
   "execution_count": 32,
   "metadata": {},
   "outputs": [],
   "source": [
    "# Llenado de valores nan con una categoría desconocida\n",
    "df['Código iso del país'] = df['Código iso del país'].fillna('Desconocido')\n",
    "df['Nombre del país'] = df['Nombre del país'].fillna('Desconocido')\n",
    "df['Fecha de diagnóstico'] = df['Fecha de diagnóstico'].fillna('N/A')\n",
    "df['Tipo de recuperación'] = df['Tipo de recuperación'].fillna('N/A')"
   ]
  },
  {
   "cell_type": "code",
   "execution_count": 33,
   "metadata": {},
   "outputs": [
    {
     "data": {
      "text/plain": [
       "Recuperado\n",
       "Fallecido    142830\n",
       "fallecido       295\n",
       "Name: count, dtype: int64"
      ]
     },
     "execution_count": 33,
     "metadata": {},
     "output_type": "execute_result"
    }
   ],
   "source": [
    "# Muestra valores listados en la columna 'Recuperado'\n",
    "df['Recuperado'].value_counts()\n"
   ]
  },
  {
   "cell_type": "code",
   "execution_count": 34,
   "metadata": {},
   "outputs": [],
   "source": [
    "# Correcion de valores de la columna 'Recuperado'\n",
    "df['Recuperado'] = df['Recuperado'].str.replace('fallecido', 'Fallecido')\n",
    "df['Sexo'] = df['Sexo'].str.replace('m', 'M')"
   ]
  },
  {
   "cell_type": "code",
   "execution_count": 35,
   "metadata": {},
   "outputs": [],
   "source": [
    "df['Nombre departamento'] = df['Nombre departamento'].str.upper()"
   ]
  },
  {
   "cell_type": "code",
   "execution_count": 36,
   "metadata": {},
   "outputs": [
    {
     "data": {
      "text/plain": [
       "['Fecha reporte web',\n",
       " 'Id de caso',\n",
       " 'Fecha de notificación',\n",
       " 'Código divipola departamento',\n",
       " 'Nombre departamento',\n",
       " 'Código divipola municipio',\n",
       " 'Nombre municipio',\n",
       " 'Edad',\n",
       " 'Unidad de medida de edad',\n",
       " 'Sexo',\n",
       " 'Tipo de contagio',\n",
       " 'Ubicación del caso',\n",
       " 'Estado',\n",
       " 'Código iso del país',\n",
       " 'Nombre del país',\n",
       " 'Recuperado',\n",
       " 'Fecha de inicio de síntomas',\n",
       " 'Fecha de muerte',\n",
       " 'Fecha de diagnóstico',\n",
       " 'Fecha de recuperación',\n",
       " 'Tipo de recuperación',\n",
       " 'Pertenencia étnica',\n",
       " 'Nombre del grupo étnico']"
      ]
     },
     "execution_count": 36,
     "metadata": {},
     "output_type": "execute_result"
    }
   ],
   "source": [
    "df.columns.tolist()"
   ]
  },
  {
   "cell_type": "markdown",
   "metadata": {},
   "source": [
    "# Analisis estadistico"
   ]
  },
  {
   "cell_type": "markdown",
   "metadata": {},
   "source": [
    "Factores clave que influyeron en las tasas de mortalidad, considerando aspectos temporales, geográficos y demográficos.\n",
    "El país necesita una comprensión más profunda de cómo la pandemia afectó a diferentes regiones y grupos poblacionales"
   ]
  },
  {
   "cell_type": "code",
   "execution_count": 37,
   "metadata": {},
   "outputs": [],
   "source": [
    "import seaborn as sns\n",
    "import matplotlib.pyplot as plt"
   ]
  },
  {
   "cell_type": "code",
   "execution_count": 38,
   "metadata": {},
   "outputs": [
    {
     "data": {
      "text/plain": [
       "Sexo\n",
       "F    69.684692\n",
       "M    67.693539\n",
       "Name: Edad, dtype: float64"
      ]
     },
     "execution_count": 38,
     "metadata": {},
     "output_type": "execute_result"
    }
   ],
   "source": [
    "media_edades_sexo = df.groupby('Sexo')['Edad'].mean()\n",
    "media_edades_sexo"
   ]
  },
  {
   "cell_type": "code",
   "execution_count": 39,
   "metadata": {},
   "outputs": [
    {
     "name": "stdout",
     "output_type": "stream",
     "text": [
      "La Mediana de la edad es:  70.0\n",
      "La Moda de la edad es:  72\n"
     ]
    }
   ],
   "source": [
    "print('La Mediana de la edad es: ', df['Edad'].median())\n",
    "print('La Moda de la edad es: ', df['Edad'].mode()[0])\n"
   ]
  },
  {
   "cell_type": "code",
   "execution_count": 40,
   "metadata": {},
   "outputs": [
    {
     "name": "stdout",
     "output_type": "stream",
     "text": [
      "Desviacion estandar columnas numericas: \n",
      " Id de caso                      1739698.736\n",
      "Código divipola departamento       6045.118\n",
      "Código divipola municipio         27409.352\n",
      "Edad                                 15.573\n",
      "Unidad de medida de edad              0.033\n",
      "Pertenencia étnica                    0.646\n",
      "dtype: float64\n",
      "Promedio de las edades:  70.0\n"
     ]
    }
   ],
   "source": [
    "# Desviacion estandar para la muestra -> ddof = 1\n",
    "print('Desviacion estandar columnas numericas: \\n', df.std(numeric_only=True,ddof=1).round(3))\n",
    "print('Promedio de las edades: ', df['Edad'].median())"
   ]
  },
  {
   "cell_type": "code",
   "execution_count": 41,
   "metadata": {},
   "outputs": [
    {
     "data": {
      "text/plain": [
       "Sexo\n",
       "F    56383\n",
       "M    86742\n",
       "Name: Recuperado, dtype: int64"
      ]
     },
     "execution_count": 41,
     "metadata": {},
     "output_type": "execute_result"
    }
   ],
   "source": [
    "contagio_por_genero = df.groupby('Sexo')['Recuperado'].count()\n",
    "contagio_por_genero"
   ]
  },
  {
   "cell_type": "code",
   "execution_count": 42,
   "metadata": {},
   "outputs": [
    {
     "data": {
      "text/plain": [
       "Tipo de contagio\n",
       "Comunitaria    112423\n",
       "Relacionado     30608\n",
       "Importado          94\n",
       "Name: count, dtype: int64"
      ]
     },
     "execution_count": 42,
     "metadata": {},
     "output_type": "execute_result"
    }
   ],
   "source": [
    "tipo_contagio = df['Tipo de contagio'].value_counts()\n",
    "tipo_contagio"
   ]
  },
  {
   "cell_type": "code",
   "execution_count": 46,
   "metadata": {},
   "outputs": [],
   "source": [
    "# Guardando nuevo dataframe limpio\n",
    "df.to_csv(r'c:\\Users\\ACER-PC\\Downloads\\fallecidos_covid_colombia_limpio.csv', sep=',', index=False)"
   ]
  },
  {
   "cell_type": "code",
   "execution_count": 48,
   "metadata": {},
   "outputs": [
    {
     "data": {
      "text/plain": [
       "Fecha de diagnóstico\n",
       "2021-06-09    752\n",
       "2021-06-10    712\n",
       "2021-06-17    681\n",
       "2021-06-15    673\n",
       "2021-06-08    673\n",
       "             ... \n",
       "2023-02-18      1\n",
       "2023-02-13      1\n",
       "2023-02-06      1\n",
       "2022-04-24      1\n",
       "2022-04-26      1\n",
       "Name: count, Length: 1253, dtype: int64"
      ]
     },
     "execution_count": 48,
     "metadata": {},
     "output_type": "execute_result"
    }
   ],
   "source": [
    "df['Fecha de diagnóstico'].value_counts()"
   ]
  }
 ],
 "metadata": {
  "kernelspec": {
   "display_name": "Python 3",
   "language": "python",
   "name": "python3"
  },
  "language_info": {
   "codemirror_mode": {
    "name": "ipython",
    "version": 3
   },
   "file_extension": ".py",
   "mimetype": "text/x-python",
   "name": "python",
   "nbconvert_exporter": "python",
   "pygments_lexer": "ipython3",
   "version": "3.12.4"
  }
 },
 "nbformat": 4,
 "nbformat_minor": 2
}
